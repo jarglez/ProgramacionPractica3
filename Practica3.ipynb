{
 "cells": [
  {
   "cell_type": "markdown",
   "metadata": {},
   "source": []
  },
  {
   "cell_type": "markdown",
   "metadata": {},
   "source": [
    "# Práctica 3\n",
    "\n",
    "Elaboró: Carlos Alejandro Jarero Gonzalez <al255813@alumnos.uacj.mx>\n",
    "\n",
    "Matrícula: 255813\n",
    "\n",
    "El presente Notebook fue relizado en equipo local con Kernel Python 3.11.8 en VS Code.\n",
    "\n",
    "## Instrucciones de uso\n",
    "\n",
    "En caso de que quieras resultados consistentes, agrega un valor numérico al parametro ```seed```.\n",
    "\n",
    "## Objetivos\n",
    "\n",
    "- Practicar el uso de numpy."
   ]
  },
  {
   "cell_type": "code",
   "execution_count": 39,
   "metadata": {},
   "outputs": [],
   "source": [
    "import numpy as np\n",
    "from numpy.random import Generator, PCG64\n",
    "from tabulate import tabulate\n",
    "\n",
    "# Paramters\n",
    "seed = None\n",
    "\n",
    "rnd = Generator(PCG64(seed))"
   ]
  },
  {
   "cell_type": "markdown",
   "metadata": {},
   "source": [
    "### Instrucciones\n",
    "\n",
    "Creación de un arreglo y operaciones básicas \n",
    "\n",
    "Crea un arreglo unidimensional de 20 elementos con valores aleatorios entre 1 y 100. Luego, realiza las siguientes operaciones: \n",
    "\n",
    "1. Encuentra el valor máximo del arreglo. \n",
    "2. Encuentra el valor mínimo del arreglo. \n",
    "3. Calcula la media del arreglo. \n",
    "4. Suma 10 a cada elemento del arreglo. "
   ]
  },
  {
   "cell_type": "code",
   "execution_count": 40,
   "metadata": {},
   "outputs": [
    {
     "name": "stdout",
     "output_type": "stream",
     "text": [
      "Original matrix: \n",
      "\n",
      " A = [20 68 39 31 53 96 69 22 92 69 26 43 83 22 62  7 53 37 86 86] \n",
      "\n",
      "Points 1 to 3\n",
      "Parameter        Values\n",
      "-------------  --------\n",
      "Minimum value      7.00\n",
      "Maximum value     96.00\n",
      "Mean              53.20\n",
      "\n",
      "Point 4\n",
      "Sum scalar matrix: \n",
      "\n",
      " A + 10 = [ 30  78  49  41  63 106  79  32 102  79  36  53  93  32  72  17  63  47\n",
      "  96  96]\n"
     ]
    }
   ],
   "source": [
    "\n",
    "\n",
    "A  = np.array(rnd.integers(1,101,20))\n",
    "\n",
    "resutls = [\n",
    "    [\"Minimum value\", A.min()],\n",
    "    [\"Maximum value\", A.max()],\n",
    "    [\"Mean\", A.mean()]\n",
    "]\n",
    "\n",
    "formatedTable = tabulate(resutls, headers=[\"Parameter\", \"Values\"], floatfmt=\".2f\")\n",
    "\n",
    "print(f\"Original matrix: \\n\\n A = {A} \\n\")\n",
    "print(\"Points 1 to 3\")\n",
    "print(formatedTable)\n",
    "print(\"\\nPoint 4\")\n",
    "print(f\"Sum scalar matrix: \\n\\n A + 10 = {A+10}\")\n"
   ]
  }
 ],
 "metadata": {
  "kernelspec": {
   "display_name": "base",
   "language": "python",
   "name": "python3"
  },
  "language_info": {
   "codemirror_mode": {
    "name": "ipython",
    "version": 3
   },
   "file_extension": ".py",
   "mimetype": "text/x-python",
   "name": "python",
   "nbconvert_exporter": "python",
   "pygments_lexer": "ipython3",
   "version": "3.11.8"
  }
 },
 "nbformat": 4,
 "nbformat_minor": 2
}
